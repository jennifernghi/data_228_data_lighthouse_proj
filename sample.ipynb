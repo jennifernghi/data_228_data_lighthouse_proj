{
  "nbformat": 4,
  "nbformat_minor": 0,
  "metadata": {
    "colab": {
      "provenance": [],
      "toc_visible": true,
      "authorship_tag": "ABX9TyNjV45IAQjENECx56CAIo4N",
      "include_colab_link": true
    },
    "kernelspec": {
      "name": "python3",
      "display_name": "Python 3"
    },
    "language_info": {
      "name": "python"
    }
  },
  "cells": [
    {
      "cell_type": "markdown",
      "metadata": {
        "id": "view-in-github",
        "colab_type": "text"
      },
      "source": [
        "<a href=\"https://colab.research.google.com/github/jennifernghi/data_228_data_lighthouse_proj/blob/main/sample.ipynb\" target=\"_parent\"><img src=\"https://colab.research.google.com/assets/colab-badge.svg\" alt=\"Open In Colab\"/></a>"
      ]
    },
    {
      "cell_type": "code",
      "execution_count": 1,
      "metadata": {
        "colab": {
          "base_uri": "https://localhost:8080/"
        },
        "id": "3hva6RSBHegx",
        "outputId": "25cddaac-b212-4855-d3cd-5b36b8d06510"
      },
      "outputs": [
        {
          "output_type": "stream",
          "name": "stdout",
          "text": [
            "sample\n"
          ]
        }
      ],
      "source": [
        "print(\"sample\")"
      ]
    },
    {
      "cell_type": "markdown",
      "source": [
        "# save a copy to github once done"
      ],
      "metadata": {
        "id": "8QIIB8EnHldC"
      }
    },
    {
      "cell_type": "code",
      "source": [],
      "metadata": {
        "id": "XpJp8_N9HqMN"
      },
      "execution_count": null,
      "outputs": []
    }
  ]
}