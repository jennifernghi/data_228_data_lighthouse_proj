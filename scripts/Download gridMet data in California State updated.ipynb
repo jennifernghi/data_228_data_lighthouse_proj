{
 "cells": [
  {
   "cell_type": "code",
   "execution_count": 1,
   "metadata": {
    "colab": {
     "base_uri": "https://localhost:8080/"
    },
    "executionInfo": {
     "elapsed": 11755,
     "status": "ok",
     "timestamp": 1666851553940,
     "user": {
      "displayName": "Jing",
      "userId": "14732279365424428471"
     },
     "user_tz": 420
    },
    "id": "2R0OAoDTHEQj",
    "outputId": "dc40e1e0-f256-481f-fab4-e96172f57fe7"
   },
   "outputs": [],
   "source": [
    "import pydap.client\n",
    "import numpy as np\n",
    "import pandas as pd\n",
    "import datetime\n",
    "from tqdm.notebook import tqdm\n",
    "Start_Year = 2008\n",
    "End_Year = 2018\n"
   ]
  },
  {
   "cell_type": "code",
   "execution_count": 2,
   "metadata": {},
   "outputs": [],
   "source": [
    "url_dict = {}"
   ]
  },
  {
   "cell_type": "code",
   "execution_count": 3,
   "metadata": {
    "executionInfo": {
     "elapsed": 383,
     "status": "ok",
     "timestamp": 1666851614642,
     "user": {
      "displayName": "Jing",
      "userId": "14732279365424428471"
     },
     "user_tz": 420
    },
    "id": "eQz37vAiHEQo"
   },
   "outputs": [],
   "source": [
    "#not used\n",
    "\n",
    "\n",
    "\n",
    "\n",
    "# url_dict['WindFromDir']='http://thredds.northwestknowledge.net:8080/thredds/dodsC/MET/th/th_'\n",
    "# url_dict['BurningIndex']='http://thredds.northwestknowledge.net:8080/thredds/dodsC/MET/bi/bi_'\n",
    "# url_dict['FuelMoist100']='http://thredds.northwestknowledge.net:8080/thredds/dodsC/MET/fm100/fm100_'\n",
    "# url_dict['FuelMoist1000']='http://thredds.northwestknowledge.net:8080/thredds/dodsC/MET/fm1000/fm1000_'\n",
    "# url_dict['EnergyRelease']='http://thredds.northwestknowledge.net:8080/thredds/dodsC/MET/erc/erc_'\n",
    "# url_dict['DroughtSeverity']='http://thredds.northwestknowledge.net:8080/thredds/dodsC/MET/pdsi/pdsi_'\n",
    "# url_dict['EvapoTranspiration']='http://thredds.northwestknowledge.net:8080/thredds/dodsC/MET/etr/etr_'\n",
    "# url_dict['EvapoTranspir_G']='http://thredds.northwestknowledge.net:8080/thredds/dodsC/MET/pet/pet_'\n",
    "# url_dict['VaporPressDeficit']='http://thredds.northwestknowledge.net:8080/thredds/dodsC/MET/vpd/vpd_'"
   ]
  },
  {
   "cell_type": "code",
   "execution_count": 4,
   "metadata": {},
   "outputs": [],
   "source": [
    "# completed:\n",
    "# url_dict['WindVelocity']='http://thredds.northwestknowledge.net:8080/thredds/dodsC/MET/vs/vs_'  #not finished,[Errno 2] No such file or directory: 'wind_speed_m/s.npz'\n",
    "\n",
    "# url_dict['BurningIndex']='http://thredds.northwestknowledge.net:8080/thredds/dodsC/MET/bi/bi_'\n",
    "# url_dict['Sradiation']='http://thredds.northwestknowledge.net:8080/thredds/dodsC/MET/srad/srad_'\n",
    "# url_dict['Shumidit']='http://thredds.northwestknowledge.net:8080/thredds/dodsC/MET/sph/sph_'\n",
    "# url_dict['Rhumiditymin']='http://thredds.northwestknowledge.net:8080/thredds/dodsC/MET/rmin/rmin_'\n",
    "# url_dict['Rhumiditymax']='http://thredds.northwestknowledge.net:8080/thredds/dodsC/MET/rmax/rmax_'\n",
    "# url_dict['Precip']='http://thredds.northwestknowledge.net:8080/thredds/dodsC/MET/pr/pr_'\n",
    "# url_dict['Tempmax']='http://thredds.northwestknowledge.net:8080/thredds/dodsC/MET/tmmx/tmmx_'\n",
    "# url_dict['Tempmin']='http://thredds.northwestknowledge.net:8080/thredds/dodsC/MET/tmmn/tmmn_'"
   ]
  },
  {
   "cell_type": "code",
   "execution_count": 5,
   "metadata": {
    "executionInfo": {
     "elapsed": 890,
     "status": "ok",
     "timestamp": 1666851619743,
     "user": {
      "displayName": "Jing",
      "userId": "14732279365424428471"
     },
     "user_tz": 420
    },
    "id": "7DzTNfu5HEQq"
   },
   "outputs": [],
   "source": [
    "base_url_part = 'http://thredds.northwestknowledge.net:8080/thredds/dodsC/MET/pr/pr_'\n",
    "url = base_url_part + str(End_Year) + '.nc'\n",
    "dataset = pydap.client.open_url(url)"
   ]
  },
  {
   "cell_type": "code",
   "execution_count": 6,
   "metadata": {
    "colab": {
     "base_uri": "https://localhost:8080/"
    },
    "executionInfo": {
     "elapsed": 826,
     "status": "ok",
     "timestamp": 1666851623917,
     "user": {
      "displayName": "Jing",
      "userId": "14732279365424428471"
     },
     "user_tz": 420
    },
    "id": "0tiZSlnsHEQq",
    "outputId": "491c770a-86e7-4922-c3f8-dd112c8cfeda"
   },
   "outputs": [
    {
     "data": {
      "text/plain": [
       "((585,), (1386,))"
      ]
     },
     "execution_count": 6,
     "metadata": {},
     "output_type": "execute_result"
    }
   ],
   "source": [
    "#Slice the Bounding Box we wanted here.\n",
    "lon_ = dataset['lon']\n",
    "lon = lon_[:].data\n",
    "lat_ = dataset['lat']\n",
    "lat = lat_[:].data\n",
    "\n",
    " \n",
    "\n",
    "#Modified approximately to california state \n",
    "import numpy as np\n",
    "SD_California_state = np.where((lat<42.0) & (lat>34.0))[0]\n",
    "SD_California_state = np.where((lon<-115.0) & (lon>-125))[0]\n",
    "\n",
    "lat.shape, lon.shape"
   ]
  },
  {
   "cell_type": "code",
   "execution_count": 7,
   "metadata": {
    "colab": {
     "base_uri": "https://localhost:8080/"
    },
    "executionInfo": {
     "elapsed": 226,
     "status": "ok",
     "timestamp": 1666851628311,
     "user": {
      "displayName": "Jing",
      "userId": "14732279365424428471"
     },
     "user_tz": 420
    },
    "id": "kkyINKc4HEQr",
    "outputId": "8af2c2d3-adc9-4088-ac9a-7e0bba433c37"
   },
   "outputs": [
    {
     "data": {
      "text/plain": [
       "(0, 234, 0, 234)"
      ]
     },
     "execution_count": 7,
     "metadata": {},
     "output_type": "execute_result"
    }
   ],
   "source": [
    "lat_begin, lat_end = SD_California_state[0], SD_California_state[-1]\n",
    "lon_begin, lon_end = SD_California_state[0], SD_California_state[-1]\n",
    "lat_begin, lat_end, lon_begin, lon_end "
   ]
  },
  {
   "cell_type": "code",
   "execution_count": 8,
   "metadata": {},
   "outputs": [],
   "source": [
    "class data_object:\n",
    "    def __init__(self, _values, _days, _lats, _lons, _col_name, _year ):\n",
    "        self.values = _values\n",
    "        self.days = _days\n",
    "        self.lats = _lats\n",
    "        self.lons = _lons\n",
    "        self.col_name = _col_name\n",
    "        self.year = _year "
   ]
  },
  {
   "cell_type": "code",
   "execution_count": 9,
   "metadata": {
    "colab": {
     "base_uri": "https://localhost:8080/",
     "height": 1000,
     "referenced_widgets": [
      "0f0e228a57114d24896c34d85ab5510d",
      "7e45d7ecf3f144a887a61632ea299161",
      "efce19adc0e445c58a406a3921ca9bf0",
      "99eeb1fa48c4436dbab8c20af260e18a",
      "312b224d1311435b9371f7651a5bb1d2",
      "0229806cbe044528bf362e560161ad41",
      "e92cca4875be42d0917086799967df14",
      "c85dc073fc79454ea786b97c0c05f8e1",
      "7c830616ffcc4251bb50a253f0280084",
      "d5d47e8b88624f1a98f9a07d75b88540",
      "81d731f518814f83897b74b647643129",
      "56c87df5b15244d9ad2ad8fb2f44ef73",
      "3c2a4fd8155d42679b9cc17bba0c0fe0",
      "f26a5306386e481ca2a39dce9e48a1ed",
      "abe67cdbc629485abaff7e46edcb4500",
      "4e4b95400cfa47539b332eb59db72b11",
      "2112d27d398646a794da596e01fd0af0",
      "b20998bed6544178837efb818b423acb",
      "0490b753b28f4d65bc5e9bd0ddfe2376",
      "526006ce790b4ee4a6df1ee093a1e06b",
      "2655d6fe97d14feab67a1a1251130a87",
      "acf4567154d94c59b043324e3a17adec"
     ]
    },
    "executionInfo": {
     "elapsed": 272658,
     "status": "error",
     "timestamp": 1666852977456,
     "user": {
      "displayName": "Jing",
      "userId": "14732279365424428471"
     },
     "user_tz": 420
    },
    "id": "rBqi2txXHEQs",
    "outputId": "83290127-8226-4c5f-e221-042d3bd56e6c",
    "scrolled": false
   },
   "outputs": [
    {
     "data": {
      "application/vnd.jupyter.widget-view+json": {
       "model_id": "ef4a482607f94ed4ac55822d85e7497a",
       "version_major": 2,
       "version_minor": 0
      },
      "text/plain": [
       "  0%|          | 0/11 [00:00<?, ?it/s]"
      ]
     },
     "metadata": {},
     "output_type": "display_data"
    },
    {
     "name": "stdout",
     "output_type": "stream",
     "text": [
      "Downloading data for year 2008\n",
      "\n"
     ]
    },
    {
     "data": {
      "application/vnd.jupyter.widget-view+json": {
       "model_id": "7730f5edcb8a41d19943c07837a49a5d",
       "version_major": 2,
       "version_minor": 0
      },
      "text/plain": [
       "  0%|          | 0/1 [00:00<?, ?it/s]"
      ]
     },
     "metadata": {},
     "output_type": "display_data"
    },
    {
     "name": "stdout",
     "output_type": "stream",
     "text": [
      "Processing for http://thredds.northwestknowledge.net:8080/thredds/dodsC/MET/vs/vs_\n",
      "'wind_speed': missing_values: 32767, scale: 0.1, bias: 0.0\n",
      "Data downloaded\n",
      "values shape: (366, 234, 234)\n",
      "days shape: (366,)\n",
      "lats shape: (234,)\n",
      "lons shape:  (234,)\n",
      "col_name: wind_speed_ms\n",
      "year: 2008\n",
      "len 1\n",
      "wind_speed_ms_ saved\n",
      "Downloading data for year 2009\n",
      "\n"
     ]
    },
    {
     "data": {
      "application/vnd.jupyter.widget-view+json": {
       "model_id": "13c815127b654f22a6b237f61655a1cf",
       "version_major": 2,
       "version_minor": 0
      },
      "text/plain": [
       "  0%|          | 0/1 [00:00<?, ?it/s]"
      ]
     },
     "metadata": {},
     "output_type": "display_data"
    },
    {
     "name": "stdout",
     "output_type": "stream",
     "text": [
      "Processing for http://thredds.northwestknowledge.net:8080/thredds/dodsC/MET/vs/vs_\n",
      "'wind_speed': missing_values: 32767, scale: 0.1, bias: 0.0\n",
      "Data downloaded\n",
      "values shape: (365, 234, 234)\n",
      "days shape: (365,)\n",
      "lats shape: (234,)\n",
      "lons shape:  (234,)\n",
      "col_name: wind_speed_ms\n",
      "year: 2009\n",
      "len 2\n",
      "wind_speed_ms_ saved\n",
      "Downloading data for year 2010\n",
      "\n"
     ]
    },
    {
     "data": {
      "application/vnd.jupyter.widget-view+json": {
       "model_id": "55a6b0f66e3249869a22b0e88c587717",
       "version_major": 2,
       "version_minor": 0
      },
      "text/plain": [
       "  0%|          | 0/1 [00:00<?, ?it/s]"
      ]
     },
     "metadata": {},
     "output_type": "display_data"
    },
    {
     "name": "stdout",
     "output_type": "stream",
     "text": [
      "Processing for http://thredds.northwestknowledge.net:8080/thredds/dodsC/MET/vs/vs_\n",
      "'wind_speed': missing_values: 32767, scale: 0.1, bias: 0.0\n",
      "Data downloaded\n",
      "values shape: (365, 234, 234)\n",
      "days shape: (365,)\n",
      "lats shape: (234,)\n",
      "lons shape:  (234,)\n",
      "col_name: wind_speed_ms\n",
      "year: 2010\n",
      "len 3\n",
      "wind_speed_ms_ saved\n",
      "Downloading data for year 2011\n",
      "\n"
     ]
    },
    {
     "data": {
      "application/vnd.jupyter.widget-view+json": {
       "model_id": "7591fbf9450141d58b93d356b9ae6ff7",
       "version_major": 2,
       "version_minor": 0
      },
      "text/plain": [
       "  0%|          | 0/1 [00:00<?, ?it/s]"
      ]
     },
     "metadata": {},
     "output_type": "display_data"
    },
    {
     "name": "stdout",
     "output_type": "stream",
     "text": [
      "Processing for http://thredds.northwestknowledge.net:8080/thredds/dodsC/MET/vs/vs_\n",
      "'wind_speed': missing_values: 32767, scale: 0.1, bias: 0.0\n",
      "Data downloaded\n",
      "values shape: (365, 234, 234)\n",
      "days shape: (365,)\n",
      "lats shape: (234,)\n",
      "lons shape:  (234,)\n",
      "col_name: wind_speed_ms\n",
      "year: 2011\n",
      "len 4\n",
      "wind_speed_ms_ saved\n",
      "Downloading data for year 2012\n",
      "\n"
     ]
    },
    {
     "data": {
      "application/vnd.jupyter.widget-view+json": {
       "model_id": "54aab0285b174db2af1435f1b20b10a0",
       "version_major": 2,
       "version_minor": 0
      },
      "text/plain": [
       "  0%|          | 0/1 [00:00<?, ?it/s]"
      ]
     },
     "metadata": {},
     "output_type": "display_data"
    },
    {
     "name": "stdout",
     "output_type": "stream",
     "text": [
      "Processing for http://thredds.northwestknowledge.net:8080/thredds/dodsC/MET/vs/vs_\n",
      "'wind_speed': missing_values: 32767, scale: 0.1, bias: 0.0\n",
      "Data downloaded\n",
      "values shape: (366, 234, 234)\n",
      "days shape: (366,)\n",
      "lats shape: (234,)\n",
      "lons shape:  (234,)\n",
      "col_name: wind_speed_ms\n",
      "year: 2012\n",
      "len 5\n",
      "wind_speed_ms_ saved\n",
      "Downloading data for year 2013\n",
      "\n"
     ]
    },
    {
     "data": {
      "application/vnd.jupyter.widget-view+json": {
       "model_id": "39c12fb161254fa98e8a85051693006a",
       "version_major": 2,
       "version_minor": 0
      },
      "text/plain": [
       "  0%|          | 0/1 [00:00<?, ?it/s]"
      ]
     },
     "metadata": {},
     "output_type": "display_data"
    },
    {
     "name": "stdout",
     "output_type": "stream",
     "text": [
      "Processing for http://thredds.northwestknowledge.net:8080/thredds/dodsC/MET/vs/vs_\n",
      "'wind_speed': missing_values: 32767, scale: 0.1, bias: 0.0\n",
      "Data downloaded\n",
      "values shape: (365, 234, 234)\n",
      "days shape: (365,)\n",
      "lats shape: (234,)\n",
      "lons shape:  (234,)\n",
      "col_name: wind_speed_ms\n",
      "year: 2013\n",
      "len 6\n",
      "wind_speed_ms_ saved\n",
      "Downloading data for year 2014\n",
      "\n"
     ]
    },
    {
     "data": {
      "application/vnd.jupyter.widget-view+json": {
       "model_id": "11a81798f1bd424abfe2a9260b7a25b0",
       "version_major": 2,
       "version_minor": 0
      },
      "text/plain": [
       "  0%|          | 0/1 [00:00<?, ?it/s]"
      ]
     },
     "metadata": {},
     "output_type": "display_data"
    },
    {
     "name": "stdout",
     "output_type": "stream",
     "text": [
      "Processing for http://thredds.northwestknowledge.net:8080/thredds/dodsC/MET/vs/vs_\n",
      "'wind_speed': missing_values: 32767, scale: 0.1, bias: 0.0\n",
      "Data downloaded\n",
      "values shape: (365, 234, 234)\n",
      "days shape: (365,)\n",
      "lats shape: (234,)\n",
      "lons shape:  (234,)\n",
      "col_name: wind_speed_ms\n",
      "year: 2014\n",
      "len 7\n",
      "wind_speed_ms_ saved\n",
      "Downloading data for year 2015\n",
      "\n"
     ]
    },
    {
     "data": {
      "application/vnd.jupyter.widget-view+json": {
       "model_id": "bf129177b0cc4ad592128586a767b8c3",
       "version_major": 2,
       "version_minor": 0
      },
      "text/plain": [
       "  0%|          | 0/1 [00:00<?, ?it/s]"
      ]
     },
     "metadata": {},
     "output_type": "display_data"
    },
    {
     "name": "stdout",
     "output_type": "stream",
     "text": [
      "Processing for http://thredds.northwestknowledge.net:8080/thredds/dodsC/MET/vs/vs_\n",
      "'wind_speed': missing_values: 32767, scale: 0.1, bias: 0.0\n",
      "Data downloaded\n",
      "values shape: (365, 234, 234)\n",
      "days shape: (365,)\n",
      "lats shape: (234,)\n",
      "lons shape:  (234,)\n",
      "col_name: wind_speed_ms\n",
      "year: 2015\n",
      "len 8\n",
      "wind_speed_ms_ saved\n",
      "Downloading data for year 2016\n",
      "\n"
     ]
    },
    {
     "data": {
      "application/vnd.jupyter.widget-view+json": {
       "model_id": "665b4112b0a046588a0738490083c485",
       "version_major": 2,
       "version_minor": 0
      },
      "text/plain": [
       "  0%|          | 0/1 [00:00<?, ?it/s]"
      ]
     },
     "metadata": {},
     "output_type": "display_data"
    },
    {
     "name": "stdout",
     "output_type": "stream",
     "text": [
      "Processing for http://thredds.northwestknowledge.net:8080/thredds/dodsC/MET/vs/vs_\n",
      "'wind_speed': missing_values: 32767, scale: 0.1, bias: 0.0\n",
      "Data downloaded\n",
      "values shape: (366, 234, 234)\n",
      "days shape: (366,)\n",
      "lats shape: (234,)\n",
      "lons shape:  (234,)\n",
      "col_name: wind_speed_ms\n",
      "year: 2016\n",
      "len 9\n",
      "wind_speed_ms_ saved\n",
      "Downloading data for year 2017\n",
      "\n"
     ]
    },
    {
     "data": {
      "application/vnd.jupyter.widget-view+json": {
       "model_id": "61ab52153a194017bc93370b3a0b7968",
       "version_major": 2,
       "version_minor": 0
      },
      "text/plain": [
       "  0%|          | 0/1 [00:00<?, ?it/s]"
      ]
     },
     "metadata": {},
     "output_type": "display_data"
    },
    {
     "name": "stdout",
     "output_type": "stream",
     "text": [
      "Processing for http://thredds.northwestknowledge.net:8080/thredds/dodsC/MET/vs/vs_\n",
      "'wind_speed': missing_values: 32767, scale: 0.1, bias: 0.0\n",
      "Data downloaded\n",
      "values shape: (365, 234, 234)\n",
      "days shape: (365,)\n",
      "lats shape: (234,)\n",
      "lons shape:  (234,)\n",
      "col_name: wind_speed_ms\n",
      "year: 2017\n",
      "len 10\n",
      "wind_speed_ms_ saved\n",
      "Downloading data for year 2018\n",
      "\n"
     ]
    },
    {
     "data": {
      "application/vnd.jupyter.widget-view+json": {
       "model_id": "dcf9fd10d51d4be6a900a58eb2afaab1",
       "version_major": 2,
       "version_minor": 0
      },
      "text/plain": [
       "  0%|          | 0/1 [00:00<?, ?it/s]"
      ]
     },
     "metadata": {},
     "output_type": "display_data"
    },
    {
     "name": "stdout",
     "output_type": "stream",
     "text": [
      "Processing for http://thredds.northwestknowledge.net:8080/thredds/dodsC/MET/vs/vs_\n",
      "'wind_speed': missing_values: 32767, scale: 0.1, bias: 0.0\n",
      "Data downloaded\n",
      "values shape: (365, 234, 234)\n",
      "days shape: (365,)\n",
      "lats shape: (234,)\n",
      "lons shape:  (234,)\n",
      "col_name: wind_speed_ms\n",
      "year: 2018\n",
      "len 11\n",
      "wind_speed_ms_ saved\n"
     ]
    }
   ],
   "source": [
    "flag=0\n",
    "final_df = pd.DataFrame()\n",
    "out = []\n",
    "for Year in tqdm(range(Start_Year, End_Year+1)):\n",
    "\n",
    "    print(\"Downloading data for year {}\".format(Year))\n",
    "    url = base_url_part + str(Year) + '.nc'\n",
    "    dataset = pydap.client.open_url(url)\n",
    "    #Create the Base DataFrame with Days and Co-ordinates\n",
    "    days = pd.to_timedelta(dataset['day'].data[:], unit='days')\n",
    "    days = days + pd.to_datetime(\"19000101\", format=\"%Y%m%d\")\n",
    "    index = pd.MultiIndex.from_product([days.values,\n",
    "                                        lat[SD_California_state].astype('f8'),\n",
    "                                        lon[SD_California_state].astype('f8')],\n",
    "                                       names=['date', 'latitude', 'longitude'])\n",
    "    base_df = pd.DataFrame(index=index) \n",
    "    ##Load each Attriubute below\n",
    "    print()\n",
    "    for key, item in tqdm(url_dict.items()):\n",
    "        print (\"Processing for\", item)\n",
    "        url = item + str(Year) + '.nc' \n",
    "        dataset = pydap.client.open_url(url)\n",
    "        \n",
    "        for column in dataset.keys():\n",
    "            if column in ('lat', 'lon', 'crs', 'day'):\n",
    "                continue\n",
    "            #Here is where the Data Download happens\n",
    "            attrs = dataset[column].attributes\n",
    "            missing_value, scale, bias = attrs['missing_value'], attrs['scale_factor'], attrs['add_offset']\n",
    "            print(\"'{}': missing_values: {}, scale: {}, bias: {}\".format(column, missing_value, scale, bias))\n",
    "            raw_data = dataset[column][:, lat_begin:lat_end, lon_begin:lon_end]\n",
    "\n",
    "            base_date = pd.to_datetime(\"19000101\", format=\"%Y%m%d\")\n",
    "            values, days, lats, lons = raw_data.data\n",
    "\n",
    "            print(\"Data downloaded\")\n",
    "            days = base_date + pd.to_timedelta(days, unit=\"days\")\n",
    "            col_name = column + \"_\" + dataset[column].units\n",
    "            col_name = col_name.replace(\"/\",\"\") #remove the / so, the filename for npz is regconized \n",
    "            if key == 'Tempmax':\n",
    "                col_name = \"max_\" + col_name\n",
    "            elif key == 'Tempmin':\n",
    "                col_name = \"min_\" + col_name\n",
    "            values = values.astype('d') # Double-precision floating-point number type, compatible with Python float and C double.\n",
    "            values[values == missing_value] = np.nan\n",
    "            values = values * scale + bias\n",
    "            print(f\"values shape: {values.shape}\" )\n",
    "            print(f\"days shape: {days.shape}\" )\n",
    "            print(f\"lats shape: {lats.shape}\" )\n",
    "            print(f\"lons shape:  {lons.shape}\")\n",
    "            print(f\"col_name: {col_name}\" )\n",
    "            print(f\"year: {Year}\" )\n",
    "            \n",
    "            out.append(data_object(values, days, lats, lons, col_name, Year))   \n",
    "            print(f\"len {len(out)}\")\n",
    "\n",
    "    np.savez_compressed(f\"{col_name}\", data=out)\n",
    "    print(f\"{col_name}_ saved\")\n",
    "#             print(f'the type of values.ravel() is: {type(values.ravel())}') # debugging\n",
    "#             print(f'the value of values.ravel() is: {values.ravel()}') # debugging\n",
    "#             base_df.loc[(days, lats, lons), col_name] = values.ravel()  # ravel()- Return a contiguous flattened array\n",
    "#     display(base_df.head(3))\n",
    "#     base_df.to_parquet(\"gridMet_{}.parquet.gz\".format(Year), compression='gzip')\n",
    "#     final_df = pd.concat([final_df, base_df])"
   ]
  },
  {
   "cell_type": "code",
   "execution_count": 10,
   "metadata": {},
   "outputs": [],
   "source": [
    "# base_df"
   ]
  }
 ],
 "metadata": {
  "colab": {
   "collapsed_sections": [],
   "provenance": []
  },
  "kernelspec": {
   "display_name": "env_3.7",
   "language": "python",
   "name": "env_3.7"
  },
  "language_info": {
   "codemirror_mode": {
    "name": "ipython",
    "version": 3
   },
   "file_extension": ".py",
   "mimetype": "text/x-python",
   "name": "python",
   "nbconvert_exporter": "python",
   "pygments_lexer": "ipython3",
   "version": "3.7.12"
  },
  "widgets": {
   "application/vnd.jupyter.widget-state+json": {
    "0229806cbe044528bf362e560161ad41": {
     "model_module": "@jupyter-widgets/base",
     "model_module_version": "1.2.0",
     "model_name": "LayoutModel",
     "state": {
      "_model_module": "@jupyter-widgets/base",
      "_model_module_version": "1.2.0",
      "_model_name": "LayoutModel",
      "_view_count": null,
      "_view_module": "@jupyter-widgets/base",
      "_view_module_version": "1.2.0",
      "_view_name": "LayoutView",
      "align_content": null,
      "align_items": null,
      "align_self": null,
      "border": null,
      "bottom": null,
      "display": null,
      "flex": null,
      "flex_flow": null,
      "grid_area": null,
      "grid_auto_columns": null,
      "grid_auto_flow": null,
      "grid_auto_rows": null,
      "grid_column": null,
      "grid_gap": null,
      "grid_row": null,
      "grid_template_areas": null,
      "grid_template_columns": null,
      "grid_template_rows": null,
      "height": null,
      "justify_content": null,
      "justify_items": null,
      "left": null,
      "margin": null,
      "max_height": null,
      "max_width": null,
      "min_height": null,
      "min_width": null,
      "object_fit": null,
      "object_position": null,
      "order": null,
      "overflow": null,
      "overflow_x": null,
      "overflow_y": null,
      "padding": null,
      "right": null,
      "top": null,
      "visibility": null,
      "width": null
     }
    },
    "0490b753b28f4d65bc5e9bd0ddfe2376": {
     "model_module": "@jupyter-widgets/base",
     "model_module_version": "1.2.0",
     "model_name": "LayoutModel",
     "state": {
      "_model_module": "@jupyter-widgets/base",
      "_model_module_version": "1.2.0",
      "_model_name": "LayoutModel",
      "_view_count": null,
      "_view_module": "@jupyter-widgets/base",
      "_view_module_version": "1.2.0",
      "_view_name": "LayoutView",
      "align_content": null,
      "align_items": null,
      "align_self": null,
      "border": null,
      "bottom": null,
      "display": null,
      "flex": null,
      "flex_flow": null,
      "grid_area": null,
      "grid_auto_columns": null,
      "grid_auto_flow": null,
      "grid_auto_rows": null,
      "grid_column": null,
      "grid_gap": null,
      "grid_row": null,
      "grid_template_areas": null,
      "grid_template_columns": null,
      "grid_template_rows": null,
      "height": null,
      "justify_content": null,
      "justify_items": null,
      "left": null,
      "margin": null,
      "max_height": null,
      "max_width": null,
      "min_height": null,
      "min_width": null,
      "object_fit": null,
      "object_position": null,
      "order": null,
      "overflow": null,
      "overflow_x": null,
      "overflow_y": null,
      "padding": null,
      "right": null,
      "top": null,
      "visibility": null,
      "width": null
     }
    },
    "0f0e228a57114d24896c34d85ab5510d": {
     "model_module": "@jupyter-widgets/controls",
     "model_module_version": "1.5.0",
     "model_name": "HBoxModel",
     "state": {
      "_dom_classes": [],
      "_model_module": "@jupyter-widgets/controls",
      "_model_module_version": "1.5.0",
      "_model_name": "HBoxModel",
      "_view_count": null,
      "_view_module": "@jupyter-widgets/controls",
      "_view_module_version": "1.5.0",
      "_view_name": "HBoxView",
      "box_style": "",
      "children": [
       "IPY_MODEL_7e45d7ecf3f144a887a61632ea299161",
       "IPY_MODEL_efce19adc0e445c58a406a3921ca9bf0",
       "IPY_MODEL_99eeb1fa48c4436dbab8c20af260e18a"
      ],
      "layout": "IPY_MODEL_312b224d1311435b9371f7651a5bb1d2"
     }
    },
    "2112d27d398646a794da596e01fd0af0": {
     "model_module": "@jupyter-widgets/base",
     "model_module_version": "1.2.0",
     "model_name": "LayoutModel",
     "state": {
      "_model_module": "@jupyter-widgets/base",
      "_model_module_version": "1.2.0",
      "_model_name": "LayoutModel",
      "_view_count": null,
      "_view_module": "@jupyter-widgets/base",
      "_view_module_version": "1.2.0",
      "_view_name": "LayoutView",
      "align_content": null,
      "align_items": null,
      "align_self": null,
      "border": null,
      "bottom": null,
      "display": null,
      "flex": null,
      "flex_flow": null,
      "grid_area": null,
      "grid_auto_columns": null,
      "grid_auto_flow": null,
      "grid_auto_rows": null,
      "grid_column": null,
      "grid_gap": null,
      "grid_row": null,
      "grid_template_areas": null,
      "grid_template_columns": null,
      "grid_template_rows": null,
      "height": null,
      "justify_content": null,
      "justify_items": null,
      "left": null,
      "margin": null,
      "max_height": null,
      "max_width": null,
      "min_height": null,
      "min_width": null,
      "object_fit": null,
      "object_position": null,
      "order": null,
      "overflow": null,
      "overflow_x": null,
      "overflow_y": null,
      "padding": null,
      "right": null,
      "top": null,
      "visibility": null,
      "width": null
     }
    },
    "2655d6fe97d14feab67a1a1251130a87": {
     "model_module": "@jupyter-widgets/base",
     "model_module_version": "1.2.0",
     "model_name": "LayoutModel",
     "state": {
      "_model_module": "@jupyter-widgets/base",
      "_model_module_version": "1.2.0",
      "_model_name": "LayoutModel",
      "_view_count": null,
      "_view_module": "@jupyter-widgets/base",
      "_view_module_version": "1.2.0",
      "_view_name": "LayoutView",
      "align_content": null,
      "align_items": null,
      "align_self": null,
      "border": null,
      "bottom": null,
      "display": null,
      "flex": null,
      "flex_flow": null,
      "grid_area": null,
      "grid_auto_columns": null,
      "grid_auto_flow": null,
      "grid_auto_rows": null,
      "grid_column": null,
      "grid_gap": null,
      "grid_row": null,
      "grid_template_areas": null,
      "grid_template_columns": null,
      "grid_template_rows": null,
      "height": null,
      "justify_content": null,
      "justify_items": null,
      "left": null,
      "margin": null,
      "max_height": null,
      "max_width": null,
      "min_height": null,
      "min_width": null,
      "object_fit": null,
      "object_position": null,
      "order": null,
      "overflow": null,
      "overflow_x": null,
      "overflow_y": null,
      "padding": null,
      "right": null,
      "top": null,
      "visibility": null,
      "width": null
     }
    },
    "312b224d1311435b9371f7651a5bb1d2": {
     "model_module": "@jupyter-widgets/base",
     "model_module_version": "1.2.0",
     "model_name": "LayoutModel",
     "state": {
      "_model_module": "@jupyter-widgets/base",
      "_model_module_version": "1.2.0",
      "_model_name": "LayoutModel",
      "_view_count": null,
      "_view_module": "@jupyter-widgets/base",
      "_view_module_version": "1.2.0",
      "_view_name": "LayoutView",
      "align_content": null,
      "align_items": null,
      "align_self": null,
      "border": null,
      "bottom": null,
      "display": null,
      "flex": null,
      "flex_flow": null,
      "grid_area": null,
      "grid_auto_columns": null,
      "grid_auto_flow": null,
      "grid_auto_rows": null,
      "grid_column": null,
      "grid_gap": null,
      "grid_row": null,
      "grid_template_areas": null,
      "grid_template_columns": null,
      "grid_template_rows": null,
      "height": null,
      "justify_content": null,
      "justify_items": null,
      "left": null,
      "margin": null,
      "max_height": null,
      "max_width": null,
      "min_height": null,
      "min_width": null,
      "object_fit": null,
      "object_position": null,
      "order": null,
      "overflow": null,
      "overflow_x": null,
      "overflow_y": null,
      "padding": null,
      "right": null,
      "top": null,
      "visibility": null,
      "width": null
     }
    },
    "3c2a4fd8155d42679b9cc17bba0c0fe0": {
     "model_module": "@jupyter-widgets/controls",
     "model_module_version": "1.5.0",
     "model_name": "HTMLModel",
     "state": {
      "_dom_classes": [],
      "_model_module": "@jupyter-widgets/controls",
      "_model_module_version": "1.5.0",
      "_model_name": "HTMLModel",
      "_view_count": null,
      "_view_module": "@jupyter-widgets/controls",
      "_view_module_version": "1.5.0",
      "_view_name": "HTMLView",
      "description": "",
      "description_tooltip": null,
      "layout": "IPY_MODEL_2112d27d398646a794da596e01fd0af0",
      "placeholder": "​",
      "style": "IPY_MODEL_b20998bed6544178837efb818b423acb",
      "value": "  0%"
     }
    },
    "4e4b95400cfa47539b332eb59db72b11": {
     "model_module": "@jupyter-widgets/base",
     "model_module_version": "1.2.0",
     "model_name": "LayoutModel",
     "state": {
      "_model_module": "@jupyter-widgets/base",
      "_model_module_version": "1.2.0",
      "_model_name": "LayoutModel",
      "_view_count": null,
      "_view_module": "@jupyter-widgets/base",
      "_view_module_version": "1.2.0",
      "_view_name": "LayoutView",
      "align_content": null,
      "align_items": null,
      "align_self": null,
      "border": null,
      "bottom": null,
      "display": null,
      "flex": null,
      "flex_flow": null,
      "grid_area": null,
      "grid_auto_columns": null,
      "grid_auto_flow": null,
      "grid_auto_rows": null,
      "grid_column": null,
      "grid_gap": null,
      "grid_row": null,
      "grid_template_areas": null,
      "grid_template_columns": null,
      "grid_template_rows": null,
      "height": null,
      "justify_content": null,
      "justify_items": null,
      "left": null,
      "margin": null,
      "max_height": null,
      "max_width": null,
      "min_height": null,
      "min_width": null,
      "object_fit": null,
      "object_position": null,
      "order": null,
      "overflow": null,
      "overflow_x": null,
      "overflow_y": null,
      "padding": null,
      "right": null,
      "top": null,
      "visibility": null,
      "width": null
     }
    },
    "526006ce790b4ee4a6df1ee093a1e06b": {
     "model_module": "@jupyter-widgets/controls",
     "model_module_version": "1.5.0",
     "model_name": "ProgressStyleModel",
     "state": {
      "_model_module": "@jupyter-widgets/controls",
      "_model_module_version": "1.5.0",
      "_model_name": "ProgressStyleModel",
      "_view_count": null,
      "_view_module": "@jupyter-widgets/base",
      "_view_module_version": "1.2.0",
      "_view_name": "StyleView",
      "bar_color": null,
      "description_width": ""
     }
    },
    "56c87df5b15244d9ad2ad8fb2f44ef73": {
     "model_module": "@jupyter-widgets/controls",
     "model_module_version": "1.5.0",
     "model_name": "HBoxModel",
     "state": {
      "_dom_classes": [],
      "_model_module": "@jupyter-widgets/controls",
      "_model_module_version": "1.5.0",
      "_model_name": "HBoxModel",
      "_view_count": null,
      "_view_module": "@jupyter-widgets/controls",
      "_view_module_version": "1.5.0",
      "_view_name": "HBoxView",
      "box_style": "",
      "children": [
       "IPY_MODEL_3c2a4fd8155d42679b9cc17bba0c0fe0",
       "IPY_MODEL_f26a5306386e481ca2a39dce9e48a1ed",
       "IPY_MODEL_abe67cdbc629485abaff7e46edcb4500"
      ],
      "layout": "IPY_MODEL_4e4b95400cfa47539b332eb59db72b11"
     }
    },
    "7c830616ffcc4251bb50a253f0280084": {
     "model_module": "@jupyter-widgets/controls",
     "model_module_version": "1.5.0",
     "model_name": "ProgressStyleModel",
     "state": {
      "_model_module": "@jupyter-widgets/controls",
      "_model_module_version": "1.5.0",
      "_model_name": "ProgressStyleModel",
      "_view_count": null,
      "_view_module": "@jupyter-widgets/base",
      "_view_module_version": "1.2.0",
      "_view_name": "StyleView",
      "bar_color": null,
      "description_width": ""
     }
    },
    "7e45d7ecf3f144a887a61632ea299161": {
     "model_module": "@jupyter-widgets/controls",
     "model_module_version": "1.5.0",
     "model_name": "HTMLModel",
     "state": {
      "_dom_classes": [],
      "_model_module": "@jupyter-widgets/controls",
      "_model_module_version": "1.5.0",
      "_model_name": "HTMLModel",
      "_view_count": null,
      "_view_module": "@jupyter-widgets/controls",
      "_view_module_version": "1.5.0",
      "_view_name": "HTMLView",
      "description": "",
      "description_tooltip": null,
      "layout": "IPY_MODEL_0229806cbe044528bf362e560161ad41",
      "placeholder": "​",
      "style": "IPY_MODEL_e92cca4875be42d0917086799967df14",
      "value": "  0%"
     }
    },
    "81d731f518814f83897b74b647643129": {
     "model_module": "@jupyter-widgets/controls",
     "model_module_version": "1.5.0",
     "model_name": "DescriptionStyleModel",
     "state": {
      "_model_module": "@jupyter-widgets/controls",
      "_model_module_version": "1.5.0",
      "_model_name": "DescriptionStyleModel",
      "_view_count": null,
      "_view_module": "@jupyter-widgets/base",
      "_view_module_version": "1.2.0",
      "_view_name": "StyleView",
      "description_width": ""
     }
    },
    "99eeb1fa48c4436dbab8c20af260e18a": {
     "model_module": "@jupyter-widgets/controls",
     "model_module_version": "1.5.0",
     "model_name": "HTMLModel",
     "state": {
      "_dom_classes": [],
      "_model_module": "@jupyter-widgets/controls",
      "_model_module_version": "1.5.0",
      "_model_name": "HTMLModel",
      "_view_count": null,
      "_view_module": "@jupyter-widgets/controls",
      "_view_module_version": "1.5.0",
      "_view_name": "HTMLView",
      "description": "",
      "description_tooltip": null,
      "layout": "IPY_MODEL_d5d47e8b88624f1a98f9a07d75b88540",
      "placeholder": "​",
      "style": "IPY_MODEL_81d731f518814f83897b74b647643129",
      "value": " 0/1 [22:25&lt;?, ?it/s]"
     }
    },
    "abe67cdbc629485abaff7e46edcb4500": {
     "model_module": "@jupyter-widgets/controls",
     "model_module_version": "1.5.0",
     "model_name": "HTMLModel",
     "state": {
      "_dom_classes": [],
      "_model_module": "@jupyter-widgets/controls",
      "_model_module_version": "1.5.0",
      "_model_name": "HTMLModel",
      "_view_count": null,
      "_view_module": "@jupyter-widgets/controls",
      "_view_module_version": "1.5.0",
      "_view_name": "HTMLView",
      "description": "",
      "description_tooltip": null,
      "layout": "IPY_MODEL_2655d6fe97d14feab67a1a1251130a87",
      "placeholder": "​",
      "style": "IPY_MODEL_acf4567154d94c59b043324e3a17adec",
      "value": " 0/16 [22:24&lt;?, ?it/s]"
     }
    },
    "acf4567154d94c59b043324e3a17adec": {
     "model_module": "@jupyter-widgets/controls",
     "model_module_version": "1.5.0",
     "model_name": "DescriptionStyleModel",
     "state": {
      "_model_module": "@jupyter-widgets/controls",
      "_model_module_version": "1.5.0",
      "_model_name": "DescriptionStyleModel",
      "_view_count": null,
      "_view_module": "@jupyter-widgets/base",
      "_view_module_version": "1.2.0",
      "_view_name": "StyleView",
      "description_width": ""
     }
    },
    "b20998bed6544178837efb818b423acb": {
     "model_module": "@jupyter-widgets/controls",
     "model_module_version": "1.5.0",
     "model_name": "DescriptionStyleModel",
     "state": {
      "_model_module": "@jupyter-widgets/controls",
      "_model_module_version": "1.5.0",
      "_model_name": "DescriptionStyleModel",
      "_view_count": null,
      "_view_module": "@jupyter-widgets/base",
      "_view_module_version": "1.2.0",
      "_view_name": "StyleView",
      "description_width": ""
     }
    },
    "c85dc073fc79454ea786b97c0c05f8e1": {
     "model_module": "@jupyter-widgets/base",
     "model_module_version": "1.2.0",
     "model_name": "LayoutModel",
     "state": {
      "_model_module": "@jupyter-widgets/base",
      "_model_module_version": "1.2.0",
      "_model_name": "LayoutModel",
      "_view_count": null,
      "_view_module": "@jupyter-widgets/base",
      "_view_module_version": "1.2.0",
      "_view_name": "LayoutView",
      "align_content": null,
      "align_items": null,
      "align_self": null,
      "border": null,
      "bottom": null,
      "display": null,
      "flex": null,
      "flex_flow": null,
      "grid_area": null,
      "grid_auto_columns": null,
      "grid_auto_flow": null,
      "grid_auto_rows": null,
      "grid_column": null,
      "grid_gap": null,
      "grid_row": null,
      "grid_template_areas": null,
      "grid_template_columns": null,
      "grid_template_rows": null,
      "height": null,
      "justify_content": null,
      "justify_items": null,
      "left": null,
      "margin": null,
      "max_height": null,
      "max_width": null,
      "min_height": null,
      "min_width": null,
      "object_fit": null,
      "object_position": null,
      "order": null,
      "overflow": null,
      "overflow_x": null,
      "overflow_y": null,
      "padding": null,
      "right": null,
      "top": null,
      "visibility": null,
      "width": null
     }
    },
    "d5d47e8b88624f1a98f9a07d75b88540": {
     "model_module": "@jupyter-widgets/base",
     "model_module_version": "1.2.0",
     "model_name": "LayoutModel",
     "state": {
      "_model_module": "@jupyter-widgets/base",
      "_model_module_version": "1.2.0",
      "_model_name": "LayoutModel",
      "_view_count": null,
      "_view_module": "@jupyter-widgets/base",
      "_view_module_version": "1.2.0",
      "_view_name": "LayoutView",
      "align_content": null,
      "align_items": null,
      "align_self": null,
      "border": null,
      "bottom": null,
      "display": null,
      "flex": null,
      "flex_flow": null,
      "grid_area": null,
      "grid_auto_columns": null,
      "grid_auto_flow": null,
      "grid_auto_rows": null,
      "grid_column": null,
      "grid_gap": null,
      "grid_row": null,
      "grid_template_areas": null,
      "grid_template_columns": null,
      "grid_template_rows": null,
      "height": null,
      "justify_content": null,
      "justify_items": null,
      "left": null,
      "margin": null,
      "max_height": null,
      "max_width": null,
      "min_height": null,
      "min_width": null,
      "object_fit": null,
      "object_position": null,
      "order": null,
      "overflow": null,
      "overflow_x": null,
      "overflow_y": null,
      "padding": null,
      "right": null,
      "top": null,
      "visibility": null,
      "width": null
     }
    },
    "e92cca4875be42d0917086799967df14": {
     "model_module": "@jupyter-widgets/controls",
     "model_module_version": "1.5.0",
     "model_name": "DescriptionStyleModel",
     "state": {
      "_model_module": "@jupyter-widgets/controls",
      "_model_module_version": "1.5.0",
      "_model_name": "DescriptionStyleModel",
      "_view_count": null,
      "_view_module": "@jupyter-widgets/base",
      "_view_module_version": "1.2.0",
      "_view_name": "StyleView",
      "description_width": ""
     }
    },
    "efce19adc0e445c58a406a3921ca9bf0": {
     "model_module": "@jupyter-widgets/controls",
     "model_module_version": "1.5.0",
     "model_name": "FloatProgressModel",
     "state": {
      "_dom_classes": [],
      "_model_module": "@jupyter-widgets/controls",
      "_model_module_version": "1.5.0",
      "_model_name": "FloatProgressModel",
      "_view_count": null,
      "_view_module": "@jupyter-widgets/controls",
      "_view_module_version": "1.5.0",
      "_view_name": "ProgressView",
      "bar_style": "danger",
      "description": "",
      "description_tooltip": null,
      "layout": "IPY_MODEL_c85dc073fc79454ea786b97c0c05f8e1",
      "max": 1,
      "min": 0,
      "orientation": "horizontal",
      "style": "IPY_MODEL_7c830616ffcc4251bb50a253f0280084",
      "value": 0
     }
    },
    "f26a5306386e481ca2a39dce9e48a1ed": {
     "model_module": "@jupyter-widgets/controls",
     "model_module_version": "1.5.0",
     "model_name": "FloatProgressModel",
     "state": {
      "_dom_classes": [],
      "_model_module": "@jupyter-widgets/controls",
      "_model_module_version": "1.5.0",
      "_model_name": "FloatProgressModel",
      "_view_count": null,
      "_view_module": "@jupyter-widgets/controls",
      "_view_module_version": "1.5.0",
      "_view_name": "ProgressView",
      "bar_style": "danger",
      "description": "",
      "description_tooltip": null,
      "layout": "IPY_MODEL_0490b753b28f4d65bc5e9bd0ddfe2376",
      "max": 16,
      "min": 0,
      "orientation": "horizontal",
      "style": "IPY_MODEL_526006ce790b4ee4a6df1ee093a1e06b",
      "value": 0
     }
    }
   }
  }
 },
 "nbformat": 4,
 "nbformat_minor": 1
}
